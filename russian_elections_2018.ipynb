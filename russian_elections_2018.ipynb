{
 "cells": [
  {
   "cell_type": "markdown",
   "metadata": {
    "ExecuteTime": {
     "end_time": "2018-03-31T09:09:02.320078Z",
     "start_time": "2018-03-31T09:09:02.186900Z"
    }
   },
   "source": [
    "[](https://meduza.io/image/attachments/images/002/887/720/large/tvpOn7ljCevpmxxWbfxBuw.png)"
   ]
  },
  {
   "cell_type": "markdown",
   "metadata": {},
   "source": [
    "# Полезные ссылки:\n",
    "\n",
    "[Избирком](http://www.vybory.izbirkom.ru/region/region/izbirkom?action=show&root=1&tvd=100100084849066&vrn=100100084849062&region=0&global=1&sub_region=0&prver=0&pronetvd=null&vibid=100100084849066&type=226)\n",
    "\n",
    "[Какие бывают аномалии?](http://www.vokrugsveta.ru/nauka/article/157463/)\n",
    "\n",
    "[fb Сергей Шпилькина](https://www.facebook.com/sergey.shpilkin)\n",
    "\n",
    "[Графики Шпилькина по областям](https://www.facebook.com/media/set/?set=ms.c.eJxFlMmRxUAIQzOaYl~%3ByT2zK4kNfX4FQC2wOt8oszlbj4j~%3B~_gbQgKpMDiorsBZ0A4T9QNBrBBxwaYgeaJdIqF7AMuAp2aNir6AG6QAyidGOloBG1QMeHng8dUTlRHVE5UVNo~_AOwns~_YjyifqBtaLqDyQAXFgYZG0oJggOc0HBrPacAY9flIGXAaGWiRA0UQtT4w1u2s1wREN7axSopr6XGqK9o8FSfaEqigNYb4IjXkAKao75SeTPUybcfzI6~%3BCfYAdwH2o7qI6Ph~%3Ba~%3BfNRpGjxtgUzRXZKkeFwvWSBCzSYDgTALqooEKHHTQn7KqprQWJRIryg8Ba3qyhHS~_aCRkBC64OJPsAdB5AY12oww1jZVQg~_D96AimWmbEDFKp8P6wdiwObBRmiR8zGJsb~_KBNhllzQ0VK~_ikanpaghBNOOBqbgpwlPhD~_BwqXYNIkjd6MZKDdiQRUfjjdXRiNOYx~_Uba9hcch3Aaesb63CqeS3zmWpeRQx4U3Ja7i1K3zlE9zktbC4yDtQAu0yxSiI7DbxW76SUcafhdCAxZf~_4pYLXhsk~%3BkawqTQ~-~-.bps.a.1654877677934195.1073741835.100002359376948&type=1)\n",
    "\n",
    "[Разбор \"Пилы Чурова\"](https://podmoskovnik.livejournal.com/179262.html)\n",
    "\n",
    "[Графики прошлых выборов](https://drive.google.com/drive/folders/0ByFMnUnpIlrieGNPMGlWTlc2Nmc)\n",
    "\n",
    "[\"Ставропольское чудо\"](https://podmoskovnik.livejournal.com/179463.html)\n",
    "\n",
    "[\"Нормализация Якутии\"](https://www.facebook.com/photo.php?fbid=1655974634491166&set=a.503124413109533.1073741826.100002359376948&type=3&theater)\n",
    "\n",
    "[Разбор временнОй явки](https://meduza.io/feature/2018/03/28/vo-vremya-vyborov-yavka-na-nekotoryh-uchastkah-utrom-byla-bolshe-chem-summarnaya-po-itogam-dnya-kak-eto)\n",
    "\n",
    "[Чемпионы по округлению](https://vsvor.livejournal.com/1838.html?utm_source=fbsharing&utm_medium=social)\n",
    "\n",
    "[Анализ 2018 с интерактивной картой](https://habrahabr.ru/post/352424/)\n",
    "\n",
    "[Анализ Думских выборов 2016](https://habrahabr.ru/post/279157/) [Сам репозиторий](https://github.com/alexanderkuk/analyze-izbirkom2/blob/master/notes.ipynb)\n",
    "\n",
    "[Ссылки на анализы старых выборов](https://www.facebook.com/alexander.shen.182/posts/10155711668778423)\n"
   ]
  },
  {
   "cell_type": "code",
   "execution_count": 1,
   "metadata": {
    "ExecuteTime": {
     "end_time": "2018-03-31T09:24:20.908390Z",
     "start_time": "2018-03-31T09:24:20.763304Z"
    }
   },
   "outputs": [
    {
     "ename": "NameError",
     "evalue": "name 'plt' is not defined",
     "output_type": "error",
     "traceback": [
      "\u001b[0;31m---------------------------------------------------------------------------\u001b[0m",
      "\u001b[0;31mNameError\u001b[0m                                 Traceback (most recent call last)",
      "\u001b[0;32m<ipython-input-1-536d0683d458>\u001b[0m in \u001b[0;36m<module>\u001b[0;34m()\u001b[0m\n\u001b[0;32m----> 1\u001b[0;31m \u001b[0mprint\u001b[0m\u001b[0;34m(\u001b[0m\u001b[0mplt\u001b[0m\u001b[0;34m.\u001b[0m\u001b[0mstyle\u001b[0m\u001b[0;34m.\u001b[0m\u001b[0mavailable\u001b[0m\u001b[0;34m)\u001b[0m\u001b[0;34m\u001b[0m\u001b[0m\n\u001b[0m",
      "\u001b[0;31mNameError\u001b[0m: name 'plt' is not defined"
     ]
    }
   ],
   "source": [
    "print(plt.style.available)"
   ]
  },
  {
   "cell_type": "code",
   "execution_count": null,
   "metadata": {
    "ExecuteTime": {
     "end_time": "2018-03-31T09:24:20.909552Z",
     "start_time": "2018-03-31T09:24:20.319Z"
    }
   },
   "outputs": [],
   "source": [
    "%matplotlib inline\n",
    "import pandas as pd\n",
    "from matplotlib import pyplot as plt\n",
    "pd.set_option('display.max_columns', None)\n",
    "import seaborn as sns\n",
    "# sns.set_style(\"dark\")\n",
    "plt.style.use('seaborn-poster')"
   ]
  },
  {
   "cell_type": "code",
   "execution_count": null,
   "metadata": {
    "ExecuteTime": {
     "end_time": "2018-03-31T09:24:20.912017Z",
     "start_time": "2018-03-31T09:24:20.349Z"
    }
   },
   "outputs": [],
   "source": [
    "df3 = pd.read_csv('results_20_Mar_2018_12_03/table_227_level_3.txt', sep='\\t')\n",
    "df3"
   ]
  },
  {
   "cell_type": "code",
   "execution_count": null,
   "metadata": {
    "ExecuteTime": {
     "end_time": "2018-03-31T09:24:20.914029Z",
     "start_time": "2018-03-31T09:24:20.367Z"
    }
   },
   "outputs": [],
   "source": [
    "df3.select_dtypes(include='int64')"
   ]
  },
  {
   "cell_type": "code",
   "execution_count": null,
   "metadata": {
    "ExecuteTime": {
     "end_time": "2018-03-31T09:24:20.915746Z",
     "start_time": "2018-03-31T09:24:20.370Z"
    }
   },
   "outputs": [],
   "source": [
    "df_array = df3.select_dtypes(include='int64').T\n",
    "plt.figure(figsize=(12, 10))\n",
    "sns.heatmap(df_array, vmax=100, cmap='coolwarm');"
   ]
  },
  {
   "cell_type": "code",
   "execution_count": null,
   "metadata": {
    "ExecuteTime": {
     "end_time": "2018-03-31T09:24:20.917331Z",
     "start_time": "2018-03-31T09:24:20.376Z"
    }
   },
   "outputs": [],
   "source": [
    "df3_describe = df3.describe(percentiles=[]).T\n",
    "df3_describe['sum'] = df3_describe['count'] * df3_describe['mean'] \n",
    "df3_describe"
   ]
  },
  {
   "cell_type": "code",
   "execution_count": null,
   "metadata": {
    "ExecuteTime": {
     "end_time": "2018-03-31T09:24:20.919491Z",
     "start_time": "2018-03-31T09:24:20.379Z"
    },
    "scrolled": true
   },
   "outputs": [],
   "source": [
    "# df2 = pd.read_csv('results_20_Mar_2018_12_03/table_227_level_2.txt', sep='\\t')\n",
    "# df2_describe = df2.describe(percentiles=[]).T\n",
    "# df2_describe['sum'] = df2_describe['count'] * df2_describe['mean'] \n",
    "# df2_describe"
   ]
  },
  {
   "cell_type": "code",
   "execution_count": null,
   "metadata": {
    "ExecuteTime": {
     "end_time": "2018-03-31T09:24:20.921720Z",
     "start_time": "2018-03-31T09:24:20.381Z"
    }
   },
   "outputs": [],
   "source": [
    "# df3[~df3['region'].isin(df2['region'])]['region'].unique()"
   ]
  },
  {
   "cell_type": "code",
   "execution_count": null,
   "metadata": {
    "ExecuteTime": {
     "end_time": "2018-03-31T09:24:20.923709Z",
     "start_time": "2018-03-31T09:24:20.384Z"
    },
    "scrolled": false
   },
   "outputs": [],
   "source": [
    "# df3[~df3['region'].isin(df2['region'])]['Число избирателей, включенных в список избирателей'].sum()"
   ]
  },
  {
   "cell_type": "code",
   "execution_count": null,
   "metadata": {
    "ExecuteTime": {
     "end_time": "2018-03-31T09:24:20.925459Z",
     "start_time": "2018-03-31T09:24:20.386Z"
    }
   },
   "outputs": [],
   "source": [
    "# 108516348 + 476010 == 108992358"
   ]
  },
  {
   "cell_type": "code",
   "execution_count": null,
   "metadata": {
    "ExecuteTime": {
     "end_time": "2018-03-31T09:24:20.929002Z",
     "start_time": "2018-03-31T09:24:20.390Z"
    }
   },
   "outputs": [],
   "source": [
    "plt.rcParams['figure.figsize'] = (10.0, 8.0)\n",
    "\n",
    "uik_size = df3['Число избирателей, включенных в список избирателей']\n",
    "sns.kdeplot(uik_size, label='Число избирателей, включенных в список избирателей', bw=0.0001)\n",
    "\n",
    "given_bulletins_cols_names = [\n",
    "     'Число избирательных бюллетеней, выданных избирателям, проголосовавшим досрочно', \n",
    "     'Число избирательных бюллетеней, выданных в помещении для голосования в день голосования', \n",
    "     'Число избирательных бюллетеней, выданных вне помещения для голосования в день голосования']\n",
    "given_bulletins = df3[given_bulletins_cols_names].sum(axis=1)\n",
    "df3['Отдано бюллетеней'] = given_bulletins\n",
    "sns.kdeplot(given_bulletins, label='Количество выданных бюллетеней', bw=0.0001);\n",
    "\n",
    "plt.ylabel('Количество участков')\n",
    "plt.legend();"
   ]
  },
  {
   "cell_type": "code",
   "execution_count": null,
   "metadata": {
    "ExecuteTime": {
     "end_time": "2018-03-31T09:24:20.930571Z",
     "start_time": "2018-03-31T09:24:20.392Z"
    }
   },
   "outputs": [],
   "source": [
    "given_bulletins[given_bulletins < 100].hist(bins=100);"
   ]
  },
  {
   "cell_type": "code",
   "execution_count": null,
   "metadata": {
    "ExecuteTime": {
     "end_time": "2018-03-31T09:24:20.932659Z",
     "start_time": "2018-03-31T09:24:20.396Z"
    },
    "scrolled": false
   },
   "outputs": [],
   "source": [
    "import numpy as np\n",
    "from collections import Counter\n",
    "turnout = given_bulletins / uik_size\n",
    "df3['Явка'] = turnout\n",
    "turnout2count = np.array(sorted(Counter(turnout).items()))\n",
    "plt.plot(turnout2count[:,0] * 100, turnout2count[:,1])\n",
    "plt.xticks(np.arange(0,105, 5))\n",
    "plt.grid(True)\n",
    "plt.xlim(0, 105);\n",
    "plt.xlabel('Явка')\n",
    "plt.ylabel('Количество участков');"
   ]
  },
  {
   "cell_type": "code",
   "execution_count": null,
   "metadata": {
    "ExecuteTime": {
     "end_time": "2018-03-31T09:24:20.933516Z",
     "start_time": "2018-03-31T09:24:20.400Z"
    }
   },
   "outputs": [],
   "source": [
    "df3_big = df3[uik_size > 500]"
   ]
  },
  {
   "cell_type": "code",
   "execution_count": null,
   "metadata": {
    "ExecuteTime": {
     "end_time": "2018-03-31T09:24:20.935044Z",
     "start_time": "2018-03-31T09:24:20.402Z"
    }
   },
   "outputs": [],
   "source": [
    "turnout_big2count = np.array(sorted(Counter(df3_big['Явка']).items()))\n",
    "plt.plot(turnout_big2count[:,0] * 100, turnout_big2count[:,1])\n",
    "plt.xticks(np.arange(0,105, 5))\n",
    "plt.grid(True)\n",
    "plt.xlim(0, 105)\n",
    "plt.xlabel('Явка на больших участках')\n",
    "plt.ylabel('Количество участков');"
   ]
  },
  {
   "cell_type": "code",
   "execution_count": null,
   "metadata": {
    "ExecuteTime": {
     "end_time": "2018-03-31T09:24:20.936521Z",
     "start_time": "2018-03-31T09:24:20.405Z"
    }
   },
   "outputs": [],
   "source": [
    "turnout_big2count[np.where(turnout_big2count[:,1] > 25)[0]]"
   ]
  },
  {
   "cell_type": "code",
   "execution_count": null,
   "metadata": {
    "ExecuteTime": {
     "end_time": "2018-03-31T09:24:20.937882Z",
     "start_time": "2018-03-31T09:24:20.407Z"
    }
   },
   "outputs": [],
   "source": [
    "turnout_big_rounded = np.round(df3_big['Явка'], 2)\n",
    "turnout_big_rounded2count = np.array(sorted(Counter(turnout_big_rounded).items()))"
   ]
  },
  {
   "cell_type": "code",
   "execution_count": null,
   "metadata": {
    "ExecuteTime": {
     "end_time": "2018-03-31T09:24:20.939705Z",
     "start_time": "2018-03-31T09:24:20.410Z"
    }
   },
   "outputs": [],
   "source": [
    "plt.plot(turnout_big_rounded2count[:,0] * 100, turnout_big_rounded2count[:,1]);\n",
    "plt.xticks(np.arange(0,105, 5))\n",
    "plt.grid(True)\n",
    "plt.xlim(0, 105)\n",
    "plt.xlabel('Явка на больших участках')\n",
    "plt.ylabel('Количество участков');"
   ]
  },
  {
   "cell_type": "code",
   "execution_count": null,
   "metadata": {
    "ExecuteTime": {
     "end_time": "2018-03-31T09:24:20.941429Z",
     "start_time": "2018-03-31T09:24:20.413Z"
    }
   },
   "outputs": [],
   "source": [
    "df3['region'].unique()"
   ]
  },
  {
   "cell_type": "code",
   "execution_count": null,
   "metadata": {
    "ExecuteTime": {
     "end_time": "2018-03-31T09:24:20.943380Z",
     "start_time": "2018-03-31T09:24:20.416Z"
    },
    "scrolled": false
   },
   "outputs": [],
   "source": [
    "def plot_turnout(df_whole, region_name=None, min_uik_size=200, round_factor=2):\n",
    "    df_big = df_whole[df_whole['Число избирателей, включенных в список избирателей'] > min_uik_size]\n",
    "    if region_name is None:\n",
    "        df = df_big\n",
    "    else:\n",
    "        df = df_big[df_big['region'] == region_name]\n",
    "    turnout_rounded = np.round(df['Явка'], round_factor)\n",
    "    turnout_rounded2count = np.array(sorted(Counter(turnout_rounded).items()))\n",
    "    plt.plot(turnout_rounded2count[:,0] * 100, turnout_rounded2count[:,1], label=region_name)\n",
    "    plt.xticks(np.arange(0,105, 5))\n",
    "    plt.grid(True)\n",
    "    plt.xlim(0, 105)\n",
    "    plt.legend()\n",
    "    plt.xlabel('Явка')\n",
    "    plt.ylabel('Количество участков');\n",
    "    \n",
    "# plot_turnout(df3, region_name='город Москва')\n",
    "plot_turnout(df3, region_name='Ставропольский край')\n",
    "plot_turnout(df3, region_name='Московская область')\n",
    "# plot_turnout(df3, region_name='99 Территория за пределами РФ')\n",
    "# plot_turnout(df3, region_name='Белгородская область')"
   ]
  },
  {
   "cell_type": "code",
   "execution_count": null,
   "metadata": {
    "ExecuteTime": {
     "end_time": "2018-03-31T09:24:20.945153Z",
     "start_time": "2018-03-31T09:24:20.418Z"
    }
   },
   "outputs": [],
   "source": [
    "def scatter_votes(df_whole, candidates, region_name=None,  \n",
    "               min_uik_size=100, denominator='Отдано бюллетеней'):\n",
    "    df_big = df_whole[df_whole['Число избирателей, включенных в список избирателей'] > min_uik_size]\n",
    "    if region_name is None:\n",
    "        df = df_big\n",
    "    else:\n",
    "        df = df_big[df_big['region'] == region_name]\n",
    "    \n",
    "    votes_ratio = df[candidates].sum(axis=1) / df[denominator]\n",
    "    \n",
    "    label = candidates[0].split()[0]\n",
    "    if len(candidates) > 1:\n",
    "        label += ' и другие'\n",
    "    plt.scatter(df['Явка'] * 100, votes_ratio * 100, s=0.1, label=label, alpha=0.5)\n",
    "    plt.xticks(np.arange(0,105, 5))\n",
    "    plt.grid(True)\n",
    "    plt.xlim(0, 105)\n",
    "    plt.legend()\n",
    "    plt.xlabel('Явка')\n",
    "    plt.ylabel('Доля голосов относительно \"{}\"'.format(denominator));\n",
    "    \n",
    "putin = ['Путин Владимир Владимирович']\n",
    "others = ['Грудинин Павел Николаевич',\n",
    " 'Жириновский Владимир Вольфович', \n",
    " 'Собчак Ксения Анатольевна', \n",
    " 'Явлинский Григорий Алексеевич', \n",
    " 'Бабурин Сергей Николаевич',\n",
    " 'Титов Борис Юрьевич']\n",
    "# scatter_votes(df3, candidates=putin, region_name='Республика Саха (Якутия)')\n",
    "# scatter_votes(df3, candidates=others, region_name='Республика Саха (Якутия)')\n",
    "\n",
    "# scatter_votes(df3, candidates=putin, region_name='Московская область')\n",
    "# scatter_votes(df3, candidates=others, region_name='Московская область')\n",
    "\n",
    "# scatter_votes(df3, candidates=putin, denominator='Число избирателей, включенных в список избирателей')\n",
    "# scatter_votes(df3, candidates=others, denominator='Число избирателей, включенных в список избирателей')\n",
    "\n",
    "# scatter_votes(df3, candidates=putin, region_name='Республика Саха (Якутия)')\n",
    "# scatter_votes(df3, candidates=others, region_name='Республика Саха (Якутия)')\n",
    "\n",
    "# scatter_votes(df3, candidates=putin, region_name='Московская область')\n",
    "# scatter_votes(df3, candidates=others, region_name='Московская область')\n",
    "\n",
    "scatter_votes(df3, candidates=putin)\n",
    "scatter_votes(df3, candidates=others)"
   ]
  },
  {
   "cell_type": "code",
   "execution_count": null,
   "metadata": {
    "ExecuteTime": {
     "end_time": "2018-03-31T09:24:20.947058Z",
     "start_time": "2018-03-31T09:24:20.422Z"
    }
   },
   "outputs": [],
   "source": [
    "def plot_votes(df_whole, candidates, region_name=None, \n",
    "               min_uik_size=100, denominator='Отдано бюллетеней', round_factor=3):\n",
    "    df_big = df_whole[df_whole['Число избирателей, включенных в список избирателей'] > min_uik_size].copy()\n",
    "    if region_name is None:\n",
    "        df = df_big\n",
    "    else:\n",
    "        df = df_big[df_big['region'] == region_name]\n",
    "    \n",
    "    votes_ratio = df[candidates].sum(axis=1) / df[denominator]\n",
    "    df['Доля голосов'] = votes_ratio\n",
    "    df['Явка округленная'] = np.round(df['Явка'], round_factor)\n",
    "    \n",
    "    turnout2votes = []\n",
    "    for turnout in sorted(df['Явка округленная'].unique()):\n",
    "        turnout2votes.append([turnout, df[df['Явка округленная'] == turnout]['Доля голосов'].mean()])\n",
    "    turnout2votes = np.array(turnout2votes)\n",
    "    \n",
    "    label = candidates[0].split()[0]\n",
    "    if len(candidates) > 1:\n",
    "        label += ' и другие'\n",
    "        \n",
    "    plt.plot(turnout2votes[:,0] * 100, turnout2votes[:,1] * 100, label=label)\n",
    "    plt.xticks(np.arange(0,105, 5))\n",
    "    plt.grid(True)\n",
    "    plt.xlim(0, 105)\n",
    "    plt.legend()\n",
    "    plt.xlabel('Явка')\n",
    "    plt.ylabel('Доля голосов относительно \"{}\"'.format(denominator));\n",
    "    \n",
    "plot_votes(df3, candidates=putin)#, region_name='Московская область')\n",
    "plot_votes(df3, candidates=others)#, region_name='Московская область')\n"
   ]
  },
  {
   "cell_type": "code",
   "execution_count": null,
   "metadata": {
    "ExecuteTime": {
     "end_time": "2018-03-31T09:24:20.949223Z",
     "start_time": "2018-03-31T09:24:20.425Z"
    }
   },
   "outputs": [],
   "source": [
    "def plot_votes(df_whole, candidates, region_name=None, \n",
    "               min_uik_size=100, round_factor=2, multiply=1):\n",
    "    df_big = df_whole[df_whole['Число избирателей, включенных в список избирателей'] > min_uik_size].copy()\n",
    "    if region_name is None:\n",
    "        df = df_big\n",
    "    else:\n",
    "        df = df_big[df_big['region'] == region_name]\n",
    "    \n",
    "    votes_count = df[candidates].sum(axis=1)\n",
    "    df['Количество голосов'] = votes_count\n",
    "    df['Явка округленная'] = np.round(df['Явка'], round_factor)\n",
    "    \n",
    "    turnout2votes = []\n",
    "    for turnout in sorted(df['Явка округленная'].unique()):\n",
    "        turnout2votes.append([turnout, df[df['Явка округленная'] == turnout]['Количество голосов'].sum()])\n",
    "    turnout2votes = np.array(turnout2votes)\n",
    "    \n",
    "    label = candidates[0].split()[0]\n",
    "    if len(candidates) > 1:\n",
    "        label += ' и другие'\n",
    "    if multiply != 1:\n",
    "        label += ', помноженные на {}'.format(multiply)\n",
    "    \n",
    "    print((turnout2votes[:,1] * multiply).sum())\n",
    "    plt.plot(turnout2votes[:,0] * 100, turnout2votes[:,1] * multiply, label=label)\n",
    "    plt.xticks(np.arange(0,105, 5))\n",
    "    plt.grid(True)\n",
    "    plt.xlim(0, 105)\n",
    "    plt.legend()\n",
    "    plt.xlabel('Явка')\n",
    "    plt.ylabel('Количество голосов');\n",
    "    \n",
    "plot_votes(df3, candidates=putin)#, region_name='Московская область')\n",
    "plot_votes(df3, candidates=others)#, region_name='Московская область')\n",
    "plot_votes(df3, candidates=others, multiply=2.9)#, region_name='Московская область')\n"
   ]
  },
  {
   "cell_type": "code",
   "execution_count": null,
   "metadata": {
    "ExecuteTime": {
     "end_time": "2018-03-31T09:24:20.950698Z",
     "start_time": "2018-03-31T09:24:20.429Z"
    }
   },
   "outputs": [],
   "source": [
    "45866672 / (45866672 + 15816094)"
   ]
  },
  {
   "cell_type": "code",
   "execution_count": null,
   "metadata": {},
   "outputs": [],
   "source": []
  }
 ],
 "metadata": {
  "kernelspec": {
   "display_name": "Python 3",
   "language": "python",
   "name": "python3"
  },
  "language_info": {
   "codemirror_mode": {
    "name": "ipython",
    "version": 3
   },
   "file_extension": ".py",
   "mimetype": "text/x-python",
   "name": "python",
   "nbconvert_exporter": "python",
   "pygments_lexer": "ipython3",
   "version": "3.6.4"
  }
 },
 "nbformat": 4,
 "nbformat_minor": 2
}
